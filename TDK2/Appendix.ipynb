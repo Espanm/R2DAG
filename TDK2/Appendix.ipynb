{
 "cells": [
  {
   "cell_type": "code",
   "execution_count": 3,
   "id": "8d096fb4",
   "metadata": {},
   "outputs": [],
   "source": [
    "library(R2DAG)"
   ]
  },
  {
   "cell_type": "markdown",
   "id": "12879dee",
   "metadata": {},
   "source": [
    "## 3 sources"
   ]
  },
  {
   "cell_type": "code",
   "execution_count": 15,
   "id": "cb53b9f5",
   "metadata": {},
   "outputs": [
    {
     "data": {
      "text/html": [
       "<table class=\"dataframe\">\n",
       "<caption>A matrix: 4 × 4 of type dbl</caption>\n",
       "<thead>\n",
       "\t<tr><th></th><th scope=col>Y1</th><th scope=col>Y2</th><th scope=col>Y3</th><th scope=col>Y4</th></tr>\n",
       "</thead>\n",
       "<tbody>\n",
       "\t<tr><th scope=row>Y1</th><td>0.0000000</td><td>0.1094784</td><td>0.1408870</td><td>0.5434417</td></tr>\n",
       "\t<tr><th scope=row>Y2</th><td>0.1159434</td><td>0.0000000</td><td>0.1222585</td><td>0.5375532</td></tr>\n",
       "\t<tr><th scope=row>Y3</th><td>0.1370913</td><td>0.1122540</td><td>0.0000000</td><td>0.5506768</td></tr>\n",
       "\t<tr><th scope=row>Y4</th><td>0.3087904</td><td>0.2958447</td><td>0.3183307</td><td>0.0000000</td></tr>\n",
       "</tbody>\n",
       "</table>\n"
      ],
      "text/latex": [
       "A matrix: 4 × 4 of type dbl\n",
       "\\begin{tabular}{r|llll}\n",
       "  & Y1 & Y2 & Y3 & Y4\\\\\n",
       "\\hline\n",
       "\tY1 & 0.0000000 & 0.1094784 & 0.1408870 & 0.5434417\\\\\n",
       "\tY2 & 0.1159434 & 0.0000000 & 0.1222585 & 0.5375532\\\\\n",
       "\tY3 & 0.1370913 & 0.1122540 & 0.0000000 & 0.5506768\\\\\n",
       "\tY4 & 0.3087904 & 0.2958447 & 0.3183307 & 0.0000000\\\\\n",
       "\\end{tabular}\n"
      ],
      "text/markdown": [
       "\n",
       "A matrix: 4 × 4 of type dbl\n",
       "\n",
       "| <!--/--> | Y1 | Y2 | Y3 | Y4 |\n",
       "|---|---|---|---|---|\n",
       "| Y1 | 0.0000000 | 0.1094784 | 0.1408870 | 0.5434417 |\n",
       "| Y2 | 0.1159434 | 0.0000000 | 0.1222585 | 0.5375532 |\n",
       "| Y3 | 0.1370913 | 0.1122540 | 0.0000000 | 0.5506768 |\n",
       "| Y4 | 0.3087904 | 0.2958447 | 0.3183307 | 0.0000000 |\n",
       "\n"
      ],
      "text/plain": [
       "   Y1        Y2        Y3        Y4       \n",
       "Y1 0.0000000 0.1094784 0.1408870 0.5434417\n",
       "Y2 0.1159434 0.0000000 0.1222585 0.5375532\n",
       "Y3 0.1370913 0.1122540 0.0000000 0.5506768\n",
       "Y4 0.3087904 0.2958447 0.3183307 0.0000000"
      ]
     },
     "metadata": {},
     "output_type": "display_data"
    },
    {
     "data": {
      "image/png": "[encoded data removed]",
      "text/plain": [
       "Plot with title \"DAG\""
      ]
     },
     "metadata": {
      "image/png": {
       "height": 420,
       "width": 420
      }
     },
     "output_type": "display_data"
    }
   ],
   "source": [
    "A0 <- matrix(c(1, 0, 0, 0,\n",
    "               0, 1, 0, 0,\n",
    "               0, 0, 1, 0,\n",
    "               -2, -2, -2, 1), nrow = 4, byrow = TRUE)\n",
    "\n",
    "sample_data <- gen_svar(1000, A0=A0, list_A=list(), df=20)\n",
    "\n",
    "table <- R2_network(sample_data, \"genizi\", directed=F)\n",
    "table$table\n",
    "plot_irf_graph(t(table$table), vertex_label_size=2)"
   ]
  },
  {
   "cell_type": "markdown",
   "id": "7c0a0e18",
   "metadata": {},
   "source": [
    "## 2 sources"
   ]
  },
  {
   "cell_type": "code",
   "execution_count": 18,
   "id": "ed88d807",
   "metadata": {},
   "outputs": [
    {
     "data": {
      "text/html": [
       "<table class=\"dataframe\">\n",
       "<caption>A matrix: 4 × 4 of type dbl</caption>\n",
       "<thead>\n",
       "\t<tr><th></th><th scope=col>Y1</th><th scope=col>Y2</th><th scope=col>Y3</th><th scope=col>Y4</th></tr>\n",
       "</thead>\n",
       "<tbody>\n",
       "\t<tr><th scope=row>Y1</th><td>0.0000000</td><td>0.1746490</td><td>0.3381738</td><td>0.3069113</td></tr>\n",
       "\t<tr><th scope=row>Y2</th><td>0.1724503</td><td>0.0000000</td><td>0.3327695</td><td>0.3136152</td></tr>\n",
       "\t<tr><th scope=row>Y3</th><td>0.2587053</td><td>0.2577982</td><td>0.0000000</td><td>0.4646258</td></tr>\n",
       "\t<tr><th scope=row>Y4</th><td>0.2407784</td><td>0.2535646</td><td>0.4816531</td><td>0.0000000</td></tr>\n",
       "</tbody>\n",
       "</table>\n"
      ],
      "text/latex": [
       "A matrix: 4 × 4 of type dbl\n",
       "\\begin{tabular}{r|llll}\n",
       "  & Y1 & Y2 & Y3 & Y4\\\\\n",
       "\\hline\n",
       "\tY1 & 0.0000000 & 0.1746490 & 0.3381738 & 0.3069113\\\\\n",
       "\tY2 & 0.1724503 & 0.0000000 & 0.3327695 & 0.3136152\\\\\n",
       "\tY3 & 0.2587053 & 0.2577982 & 0.0000000 & 0.4646258\\\\\n",
       "\tY4 & 0.2407784 & 0.2535646 & 0.4816531 & 0.0000000\\\\\n",
       "\\end{tabular}\n"
      ],
      "text/markdown": [
       "\n",
       "A matrix: 4 × 4 of type dbl\n",
       "\n",
       "| <!--/--> | Y1 | Y2 | Y3 | Y4 |\n",
       "|---|---|---|---|---|\n",
       "| Y1 | 0.0000000 | 0.1746490 | 0.3381738 | 0.3069113 |\n",
       "| Y2 | 0.1724503 | 0.0000000 | 0.3327695 | 0.3136152 |\n",
       "| Y3 | 0.2587053 | 0.2577982 | 0.0000000 | 0.4646258 |\n",
       "| Y4 | 0.2407784 | 0.2535646 | 0.4816531 | 0.0000000 |\n",
       "\n"
      ],
      "text/plain": [
       "   Y1        Y2        Y3        Y4       \n",
       "Y1 0.0000000 0.1746490 0.3381738 0.3069113\n",
       "Y2 0.1724503 0.0000000 0.3327695 0.3136152\n",
       "Y3 0.2587053 0.2577982 0.0000000 0.4646258\n",
       "Y4 0.2407784 0.2535646 0.4816531 0.0000000"
      ]
     },
     "metadata": {},
     "output_type": "display_data"
    },
    {
     "data": {
      "image/png": "[encoded data removed]",
      "text/plain": [
       "Plot with title \"DAG\""
      ]
     },
     "metadata": {
      "image/png": {
       "height": 420,
       "width": 420
      }
     },
     "output_type": "display_data"
    }
   ],
   "source": [
    "A0 <- matrix(c(1, 0, 0, 0,\n",
    "               0, 1, 0, 0,\n",
    "               -2, -2, 1, 0,\n",
    "               0, 0, -2, 1), nrow = 4, byrow = TRUE)\n",
    "\n",
    "sample_data <- gen_svar(1000, A0=A0, list_A=list(), df=20)\n",
    "\n",
    "table <- R2_network(sample_data, \"genizi\", directed=F)\n",
    "table$table\n",
    "plot_irf_graph(t(table$table), vertex_label_size=2)"
   ]
  },
  {
   "cell_type": "code",
   "execution_count": 19,
   "id": "5485db27",
   "metadata": {},
   "outputs": [
    {
     "data": {
      "text/html": [
       "<table class=\"dataframe\">\n",
       "<caption>A matrix: 4 × 4 of type dbl</caption>\n",
       "<thead>\n",
       "\t<tr><th></th><th scope=col>Y1</th><th scope=col>Y2</th><th scope=col>Y3</th><th scope=col>Y4</th></tr>\n",
       "</thead>\n",
       "<tbody>\n",
       "\t<tr><th scope=row>Y1</th><td>0.0000000</td><td>0.08220602</td><td>0.3245308</td><td>0.48840492</td></tr>\n",
       "\t<tr><th scope=row>Y2</th><td>0.1275712</td><td>0.00000000</td><td>0.6096957</td><td>0.07864845</td></tr>\n",
       "\t<tr><th scope=row>Y3</th><td>0.2807680</td><td>0.42675640</td><td>0.0000000</td><td>0.19779272</td></tr>\n",
       "\t<tr><th scope=row>Y4</th><td>0.5421901</td><td>0.03644508</td><td>0.2242828</td><td>0.00000000</td></tr>\n",
       "</tbody>\n",
       "</table>\n"
      ],
      "text/latex": [
       "A matrix: 4 × 4 of type dbl\n",
       "\\begin{tabular}{r|llll}\n",
       "  & Y1 & Y2 & Y3 & Y4\\\\\n",
       "\\hline\n",
       "\tY1 & 0.0000000 & 0.08220602 & 0.3245308 & 0.48840492\\\\\n",
       "\tY2 & 0.1275712 & 0.00000000 & 0.6096957 & 0.07864845\\\\\n",
       "\tY3 & 0.2807680 & 0.42675640 & 0.0000000 & 0.19779272\\\\\n",
       "\tY4 & 0.5421901 & 0.03644508 & 0.2242828 & 0.00000000\\\\\n",
       "\\end{tabular}\n"
      ],
      "text/markdown": [
       "\n",
       "A matrix: 4 × 4 of type dbl\n",
       "\n",
       "| <!--/--> | Y1 | Y2 | Y3 | Y4 |\n",
       "|---|---|---|---|---|\n",
       "| Y1 | 0.0000000 | 0.08220602 | 0.3245308 | 0.48840492 |\n",
       "| Y2 | 0.1275712 | 0.00000000 | 0.6096957 | 0.07864845 |\n",
       "| Y3 | 0.2807680 | 0.42675640 | 0.0000000 | 0.19779272 |\n",
       "| Y4 | 0.5421901 | 0.03644508 | 0.2242828 | 0.00000000 |\n",
       "\n"
      ],
      "text/plain": [
       "   Y1        Y2         Y3        Y4        \n",
       "Y1 0.0000000 0.08220602 0.3245308 0.48840492\n",
       "Y2 0.1275712 0.00000000 0.6096957 0.07864845\n",
       "Y3 0.2807680 0.42675640 0.0000000 0.19779272\n",
       "Y4 0.5421901 0.03644508 0.2242828 0.00000000"
      ]
     },
     "metadata": {},
     "output_type": "display_data"
    },
    {
     "data": {
      "image/png": "[encoded data removed]",
      "text/plain": [
       "Plot with title \"DAG\""
      ]
     },
     "metadata": {
      "image/png": {
       "height": 420,
       "width": 420
      }
     },
     "output_type": "display_data"
    }
   ],
   "source": [
    "A0 <- matrix(c(1, 0, 0, 0,\n",
    "               0, 1, 0, 0,\n",
    "               -2, -2, 1, 0,\n",
    "               -2, 0, 0, 1), nrow = 4, byrow = TRUE)\n",
    "\n",
    "sample_data <- gen_svar(1000, A0=A0, list_A=list(), df=20)\n",
    "\n",
    "table <- R2_network(sample_data, \"genizi\", directed=F)\n",
    "table$table\n",
    "plot_irf_graph(t(table$table), vertex_label_size=2)"
   ]
  },
  {
   "cell_type": "markdown",
   "id": "e6303dbc",
   "metadata": {},
   "source": [
    "## 1 source"
   ]
  },
  {
   "cell_type": "code",
   "execution_count": 22,
   "id": "e1d5408b",
   "metadata": {},
   "outputs": [
    {
     "data": {
      "text/html": [
       "<table class=\"dataframe\">\n",
       "<caption>A matrix: 4 × 4 of type dbl</caption>\n",
       "<thead>\n",
       "\t<tr><th></th><th scope=col>Y1</th><th scope=col>Y2</th><th scope=col>Y3</th><th scope=col>Y4</th></tr>\n",
       "</thead>\n",
       "<tbody>\n",
       "\t<tr><th scope=row>Y1</th><td>0.0000000</td><td>0.2980026</td><td>0.2564110</td><td>0.2511529</td></tr>\n",
       "\t<tr><th scope=row>Y2</th><td>0.2852541</td><td>0.0000000</td><td>0.3405929</td><td>0.3333574</td></tr>\n",
       "\t<tr><th scope=row>Y3</th><td>0.2560188</td><td>0.3457187</td><td>0.0000000</td><td>0.3885992</td></tr>\n",
       "\t<tr><th scope=row>Y4</th><td>0.2527672</td><td>0.3419506</td><td>0.3931121</td><td>0.0000000</td></tr>\n",
       "</tbody>\n",
       "</table>\n"
      ],
      "text/latex": [
       "A matrix: 4 × 4 of type dbl\n",
       "\\begin{tabular}{r|llll}\n",
       "  & Y1 & Y2 & Y3 & Y4\\\\\n",
       "\\hline\n",
       "\tY1 & 0.0000000 & 0.2980026 & 0.2564110 & 0.2511529\\\\\n",
       "\tY2 & 0.2852541 & 0.0000000 & 0.3405929 & 0.3333574\\\\\n",
       "\tY3 & 0.2560188 & 0.3457187 & 0.0000000 & 0.3885992\\\\\n",
       "\tY4 & 0.2527672 & 0.3419506 & 0.3931121 & 0.0000000\\\\\n",
       "\\end{tabular}\n"
      ],
      "text/markdown": [
       "\n",
       "A matrix: 4 × 4 of type dbl\n",
       "\n",
       "| <!--/--> | Y1 | Y2 | Y3 | Y4 |\n",
       "|---|---|---|---|---|\n",
       "| Y1 | 0.0000000 | 0.2980026 | 0.2564110 | 0.2511529 |\n",
       "| Y2 | 0.2852541 | 0.0000000 | 0.3405929 | 0.3333574 |\n",
       "| Y3 | 0.2560188 | 0.3457187 | 0.0000000 | 0.3885992 |\n",
       "| Y4 | 0.2527672 | 0.3419506 | 0.3931121 | 0.0000000 |\n",
       "\n"
      ],
      "text/plain": [
       "   Y1        Y2        Y3        Y4       \n",
       "Y1 0.0000000 0.2980026 0.2564110 0.2511529\n",
       "Y2 0.2852541 0.0000000 0.3405929 0.3333574\n",
       "Y3 0.2560188 0.3457187 0.0000000 0.3885992\n",
       "Y4 0.2527672 0.3419506 0.3931121 0.0000000"
      ]
     },
     "metadata": {},
     "output_type": "display_data"
    },
    {
     "data": {
      "image/png": "[encoded data removed]",
      "text/plain": [
       "Plot with title \"DAG\""
      ]
     },
     "metadata": {
      "image/png": {
       "height": 420,
       "width": 420
      }
     },
     "output_type": "display_data"
    }
   ],
   "source": [
    "A0 <- matrix(c(1, 0, 0, 0,\n",
    "               -2, 1, 0, 0,\n",
    "               0, -2, 1, 0,\n",
    "               0, 0, -2, 1), nrow = 4, byrow = TRUE)\n",
    "\n",
    "sample_data <- gen_svar(1000, A0=A0, list_A=list(), df=20)\n",
    "\n",
    "table <- R2_network(sample_data, \"genizi\", directed=F)\n",
    "table$table\n",
    "plot_irf_graph(t(table$table), vertex_label_size=2)"
   ]
  },
  {
   "cell_type": "code",
   "execution_count": 24,
   "id": "425c9e9c",
   "metadata": {},
   "outputs": [
    {
     "data": {
      "text/html": [
       "<table class=\"dataframe\">\n",
       "<caption>A matrix: 4 × 4 of type dbl</caption>\n",
       "<thead>\n",
       "\t<tr><th></th><th scope=col>Y1</th><th scope=col>Y2</th><th scope=col>Y3</th><th scope=col>Y4</th></tr>\n",
       "</thead>\n",
       "<tbody>\n",
       "\t<tr><th scope=row>Y1</th><td>0.0000000</td><td>0.2886251</td><td>0.2644306</td><td>0.2644657</td></tr>\n",
       "\t<tr><th scope=row>Y2</th><td>0.2816936</td><td>0.0000000</td><td>0.3503568</td><td>0.3462669</td></tr>\n",
       "\t<tr><th scope=row>Y3</th><td>0.2652709</td><td>0.3595815</td><td>0.0000000</td><td>0.3293201</td></tr>\n",
       "\t<tr><th scope=row>Y4</th><td>0.2648470</td><td>0.3548707</td><td>0.3289107</td><td>0.0000000</td></tr>\n",
       "</tbody>\n",
       "</table>\n"
      ],
      "text/latex": [
       "A matrix: 4 × 4 of type dbl\n",
       "\\begin{tabular}{r|llll}\n",
       "  & Y1 & Y2 & Y3 & Y4\\\\\n",
       "\\hline\n",
       "\tY1 & 0.0000000 & 0.2886251 & 0.2644306 & 0.2644657\\\\\n",
       "\tY2 & 0.2816936 & 0.0000000 & 0.3503568 & 0.3462669\\\\\n",
       "\tY3 & 0.2652709 & 0.3595815 & 0.0000000 & 0.3293201\\\\\n",
       "\tY4 & 0.2648470 & 0.3548707 & 0.3289107 & 0.0000000\\\\\n",
       "\\end{tabular}\n"
      ],
      "text/markdown": [
       "\n",
       "A matrix: 4 × 4 of type dbl\n",
       "\n",
       "| <!--/--> | Y1 | Y2 | Y3 | Y4 |\n",
       "|---|---|---|---|---|\n",
       "| Y1 | 0.0000000 | 0.2886251 | 0.2644306 | 0.2644657 |\n",
       "| Y2 | 0.2816936 | 0.0000000 | 0.3503568 | 0.3462669 |\n",
       "| Y3 | 0.2652709 | 0.3595815 | 0.0000000 | 0.3293201 |\n",
       "| Y4 | 0.2648470 | 0.3548707 | 0.3289107 | 0.0000000 |\n",
       "\n"
      ],
      "text/plain": [
       "   Y1        Y2        Y3        Y4       \n",
       "Y1 0.0000000 0.2886251 0.2644306 0.2644657\n",
       "Y2 0.2816936 0.0000000 0.3503568 0.3462669\n",
       "Y3 0.2652709 0.3595815 0.0000000 0.3293201\n",
       "Y4 0.2648470 0.3548707 0.3289107 0.0000000"
      ]
     },
     "metadata": {},
     "output_type": "display_data"
    },
    {
     "data": {
      "image/png": "[encoded data removed]",
      "text/plain": [
       "Plot with title \"DAG\""
      ]
     },
     "metadata": {
      "image/png": {
       "height": 420,
       "width": 420
      }
     },
     "output_type": "display_data"
    }
   ],
   "source": [
    "\n",
    "A0 <- matrix(c(1, 0, 0, 0,\n",
    "               -2, 1, 0, 0,\n",
    "               0, -2, 1, 0,\n",
    "               0, -2, 0, 1), nrow = 4, byrow = TRUE)\n",
    "\n",
    "sample_data <- gen_svar(1000, A0=A0, list_A=list(), df=20)\n",
    "\n",
    "table <- R2_network(sample_data, \"genizi\", directed=F)\n",
    "table$table\n",
    "plot_irf_graph(t(table$table), vertex_label_size=2)"
   ]
  },
  {
   "cell_type": "code",
   "execution_count": 25,
   "id": "438ecc2b",
   "metadata": {},
   "outputs": [
    {
     "data": {
      "text/html": [
       "<table class=\"dataframe\">\n",
       "<caption>A matrix: 4 × 4 of type dbl</caption>\n",
       "<thead>\n",
       "\t<tr><th></th><th scope=col>Y1</th><th scope=col>Y2</th><th scope=col>Y3</th><th scope=col>Y4</th></tr>\n",
       "</thead>\n",
       "<tbody>\n",
       "\t<tr><th scope=row>Y1</th><td>0.0000000</td><td>0.2813541</td><td>0.3543661</td><td>0.2582460</td></tr>\n",
       "\t<tr><th scope=row>Y2</th><td>0.2894955</td><td>0.0000000</td><td>0.2151220</td><td>0.4595548</td></tr>\n",
       "\t<tr><th scope=row>Y3</th><td>0.3861407</td><td>0.2203179</td><td>0.0000000</td><td>0.2041268</td></tr>\n",
       "\t<tr><th scope=row>Y4</th><td>0.2748662</td><td>0.4760045</td><td>0.2051848</td><td>0.0000000</td></tr>\n",
       "</tbody>\n",
       "</table>\n"
      ],
      "text/latex": [
       "A matrix: 4 × 4 of type dbl\n",
       "\\begin{tabular}{r|llll}\n",
       "  & Y1 & Y2 & Y3 & Y4\\\\\n",
       "\\hline\n",
       "\tY1 & 0.0000000 & 0.2813541 & 0.3543661 & 0.2582460\\\\\n",
       "\tY2 & 0.2894955 & 0.0000000 & 0.2151220 & 0.4595548\\\\\n",
       "\tY3 & 0.3861407 & 0.2203179 & 0.0000000 & 0.2041268\\\\\n",
       "\tY4 & 0.2748662 & 0.4760045 & 0.2051848 & 0.0000000\\\\\n",
       "\\end{tabular}\n"
      ],
      "text/markdown": [
       "\n",
       "A matrix: 4 × 4 of type dbl\n",
       "\n",
       "| <!--/--> | Y1 | Y2 | Y3 | Y4 |\n",
       "|---|---|---|---|---|\n",
       "| Y1 | 0.0000000 | 0.2813541 | 0.3543661 | 0.2582460 |\n",
       "| Y2 | 0.2894955 | 0.0000000 | 0.2151220 | 0.4595548 |\n",
       "| Y3 | 0.3861407 | 0.2203179 | 0.0000000 | 0.2041268 |\n",
       "| Y4 | 0.2748662 | 0.4760045 | 0.2051848 | 0.0000000 |\n",
       "\n"
      ],
      "text/plain": [
       "   Y1        Y2        Y3        Y4       \n",
       "Y1 0.0000000 0.2813541 0.3543661 0.2582460\n",
       "Y2 0.2894955 0.0000000 0.2151220 0.4595548\n",
       "Y3 0.3861407 0.2203179 0.0000000 0.2041268\n",
       "Y4 0.2748662 0.4760045 0.2051848 0.0000000"
      ]
     },
     "metadata": {},
     "output_type": "display_data"
    },
    {
     "data": {
      "image/png": "[encoded data removed]",
      "text/plain": [
       "Plot with title \"DAG\""
      ]
     },
     "metadata": {
      "image/png": {
       "height": 420,
       "width": 420
      }
     },
     "output_type": "display_data"
    }
   ],
   "source": [
    "A0 <- matrix(c(1, 0, 0, 0,\n",
    "               -2, 1, 0, 0,\n",
    "               -2, 0, 1, 0,\n",
    "               0, -2, 0, 1), nrow = 4, byrow = TRUE)\n",
    "\n",
    "sample_data <- gen_svar(1000, A0=A0, list_A=list(), df=20)\n",
    "\n",
    "table <- R2_network(sample_data, \"genizi\", directed=F)\n",
    "table$table\n",
    "plot_irf_graph(t(table$table), vertex_label_size=2)"
   ]
  },
  {
   "cell_type": "code",
   "execution_count": 26,
   "id": "2f042fb9",
   "metadata": {},
   "outputs": [
    {
     "data": {
      "text/html": [
       "<table class=\"dataframe\">\n",
       "<caption>A matrix: 4 × 4 of type dbl</caption>\n",
       "<thead>\n",
       "\t<tr><th></th><th scope=col>Y1</th><th scope=col>Y2</th><th scope=col>Y3</th><th scope=col>Y4</th></tr>\n",
       "</thead>\n",
       "<tbody>\n",
       "\t<tr><th scope=row>Y1</th><td>0.0000000</td><td>0.2942565</td><td>0.2906649</td><td>0.2895733</td></tr>\n",
       "\t<tr><th scope=row>Y2</th><td>0.3216755</td><td>0.0000000</td><td>0.2360529</td><td>0.4009950</td></tr>\n",
       "\t<tr><th scope=row>Y3</th><td>0.3186233</td><td>0.2357302</td><td>0.0000000</td><td>0.4055773</td></tr>\n",
       "\t<tr><th scope=row>Y4</th><td>0.2923444</td><td>0.3449114</td><td>0.3489827</td><td>0.0000000</td></tr>\n",
       "</tbody>\n",
       "</table>\n"
      ],
      "text/latex": [
       "A matrix: 4 × 4 of type dbl\n",
       "\\begin{tabular}{r|llll}\n",
       "  & Y1 & Y2 & Y3 & Y4\\\\\n",
       "\\hline\n",
       "\tY1 & 0.0000000 & 0.2942565 & 0.2906649 & 0.2895733\\\\\n",
       "\tY2 & 0.3216755 & 0.0000000 & 0.2360529 & 0.4009950\\\\\n",
       "\tY3 & 0.3186233 & 0.2357302 & 0.0000000 & 0.4055773\\\\\n",
       "\tY4 & 0.2923444 & 0.3449114 & 0.3489827 & 0.0000000\\\\\n",
       "\\end{tabular}\n"
      ],
      "text/markdown": [
       "\n",
       "A matrix: 4 × 4 of type dbl\n",
       "\n",
       "| <!--/--> | Y1 | Y2 | Y3 | Y4 |\n",
       "|---|---|---|---|---|\n",
       "| Y1 | 0.0000000 | 0.2942565 | 0.2906649 | 0.2895733 |\n",
       "| Y2 | 0.3216755 | 0.0000000 | 0.2360529 | 0.4009950 |\n",
       "| Y3 | 0.3186233 | 0.2357302 | 0.0000000 | 0.4055773 |\n",
       "| Y4 | 0.2923444 | 0.3449114 | 0.3489827 | 0.0000000 |\n",
       "\n"
      ],
      "text/plain": [
       "   Y1        Y2        Y3        Y4       \n",
       "Y1 0.0000000 0.2942565 0.2906649 0.2895733\n",
       "Y2 0.3216755 0.0000000 0.2360529 0.4009950\n",
       "Y3 0.3186233 0.2357302 0.0000000 0.4055773\n",
       "Y4 0.2923444 0.3449114 0.3489827 0.0000000"
      ]
     },
     "metadata": {},
     "output_type": "display_data"
    },
    {
     "data": {
      "image/png": "[encoded data removed]",
      "text/plain": [
       "Plot with title \"DAG\""
      ]
     },
     "metadata": {
      "image/png": {
       "height": 420,
       "width": 420
      }
     },
     "output_type": "display_data"
    }
   ],
   "source": [
    "A0 <- matrix(c(1, 0, 0, 0,\n",
    "               -2, 1, 0, 0,\n",
    "               -2, 0, 1, 0,\n",
    "               0, -2, -2, 1), nrow = 4, byrow = TRUE)\n",
    "\n",
    "sample_data <- gen_svar(1000, A0=A0, list_A=list(), df=20)\n",
    "\n",
    "table <- R2_network(sample_data, \"genizi\", directed=F)\n",
    "table$table\n",
    "plot_irf_graph(t(table$table), vertex_label_size=2)"
   ]
  },
  {
   "cell_type": "code",
   "execution_count": 27,
   "id": "54352322",
   "metadata": {},
   "outputs": [
    {
     "data": {
      "text/html": [
       "<table class=\"dataframe\">\n",
       "<caption>A matrix: 4 × 4 of type dbl</caption>\n",
       "<thead>\n",
       "\t<tr><th></th><th scope=col>Y1</th><th scope=col>Y2</th><th scope=col>Y3</th><th scope=col>Y4</th></tr>\n",
       "</thead>\n",
       "<tbody>\n",
       "\t<tr><th scope=row>Y1</th><td>0.0000000</td><td>0.3107737</td><td>0.3141956</td><td>0.2990022</td></tr>\n",
       "\t<tr><th scope=row>Y2</th><td>0.3395508</td><td>0.0000000</td><td>0.2290588</td><td>0.2294911</td></tr>\n",
       "\t<tr><th scope=row>Y3</th><td>0.3407940</td><td>0.2281164</td><td>0.0000000</td><td>0.2396406</td></tr>\n",
       "\t<tr><th scope=row>Y4</th><td>0.3216930</td><td>0.2272693</td><td>0.2383848</td><td>0.0000000</td></tr>\n",
       "</tbody>\n",
       "</table>\n"
      ],
      "text/latex": [
       "A matrix: 4 × 4 of type dbl\n",
       "\\begin{tabular}{r|llll}\n",
       "  & Y1 & Y2 & Y3 & Y4\\\\\n",
       "\\hline\n",
       "\tY1 & 0.0000000 & 0.3107737 & 0.3141956 & 0.2990022\\\\\n",
       "\tY2 & 0.3395508 & 0.0000000 & 0.2290588 & 0.2294911\\\\\n",
       "\tY3 & 0.3407940 & 0.2281164 & 0.0000000 & 0.2396406\\\\\n",
       "\tY4 & 0.3216930 & 0.2272693 & 0.2383848 & 0.0000000\\\\\n",
       "\\end{tabular}\n"
      ],
      "text/markdown": [
       "\n",
       "A matrix: 4 × 4 of type dbl\n",
       "\n",
       "| <!--/--> | Y1 | Y2 | Y3 | Y4 |\n",
       "|---|---|---|---|---|\n",
       "| Y1 | 0.0000000 | 0.3107737 | 0.3141956 | 0.2990022 |\n",
       "| Y2 | 0.3395508 | 0.0000000 | 0.2290588 | 0.2294911 |\n",
       "| Y3 | 0.3407940 | 0.2281164 | 0.0000000 | 0.2396406 |\n",
       "| Y4 | 0.3216930 | 0.2272693 | 0.2383848 | 0.0000000 |\n",
       "\n"
      ],
      "text/plain": [
       "   Y1        Y2        Y3        Y4       \n",
       "Y1 0.0000000 0.3107737 0.3141956 0.2990022\n",
       "Y2 0.3395508 0.0000000 0.2290588 0.2294911\n",
       "Y3 0.3407940 0.2281164 0.0000000 0.2396406\n",
       "Y4 0.3216930 0.2272693 0.2383848 0.0000000"
      ]
     },
     "metadata": {},
     "output_type": "display_data"
    },
    {
     "data": {
      "image/png": "[encoded data removed]",
      "text/plain": [
       "Plot with title \"DAG\""
      ]
     },
     "metadata": {
      "image/png": {
       "height": 420,
       "width": 420
      }
     },
     "output_type": "display_data"
    }
   ],
   "source": [
    "A0 <- matrix(c(1, 0, 0, 0,\n",
    "               -2, 1, 0, 0,\n",
    "               -2, 0, 1, 0,\n",
    "               -2, 0, 0, 1), nrow = 4, byrow = TRUE)\n",
    "\n",
    "sample_data <- gen_svar(1000, A0=A0, list_A=list(), df=20)\n",
    "\n",
    "table <- R2_network(sample_data, \"genizi\", directed=F)\n",
    "table$table\n",
    "plot_irf_graph(t(table$table), vertex_label_size=2)"
   ]
  },
  {
   "cell_type": "code",
   "execution_count": null,
   "id": "0717ca9d",
   "metadata": {},
   "outputs": [],
   "source": []
  }
 ],
 "metadata": {
  "kernelspec": {
   "display_name": "R",
   "language": "R",
   "name": "ir"
  },
  "language_info": {
   "codemirror_mode": "r",
   "file_extension": ".r",
   "mimetype": "text/x-r-source",
   "name": "R",
   "pygments_lexer": "r",
   "version": "4.4.2"
  }
 },
 "nbformat": 4,
 "nbformat_minor": 5
}
